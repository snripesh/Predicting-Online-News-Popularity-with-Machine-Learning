{
  "nbformat": 4,
  "nbformat_minor": 0,
  "metadata": {
    "colab": {
      "name": "Untitled0.ipynb",
      "provenance": [],
      "authorship_tag": "ABX9TyNkLnA7/bKVqYMOyM/MBVKd",
      "include_colab_link": true
    },
    "kernelspec": {
      "name": "python3",
      "display_name": "Python 3"
    },
    "language_info": {
      "name": "python"
    }
  },
  "cells": [
    {
      "cell_type": "markdown",
      "metadata": {
        "id": "view-in-github",
        "colab_type": "text"
      },
      "source": [
        "<a href=\"https://colab.research.google.com/github/snripesh/PythonProject/blob/main/Project.ipynb\" target=\"_parent\"><img src=\"https://colab.research.google.com/assets/colab-badge.svg\" alt=\"Open In Colab\"/></a>"
      ]
    },
    {
      "cell_type": "code",
      "execution_count": null,
      "metadata": {
        "id": "e_GznWzFTnI8"
      },
      "outputs": [],
      "source": [
        "!pip install newspaper3k"
      ]
    },
    {
      "cell_type": "code",
      "source": [
        "!pip install catboost"
      ],
      "metadata": {
        "id": "qvg6k3SuVqwd"
      },
      "execution_count": null,
      "outputs": []
    },
    {
      "cell_type": "code",
      "source": [
        "import numpy as np\n",
        "import pandas as pd\n",
        "import matplotlib.pyplot as plt\n",
        "from sklearn import preprocessing\n",
        "from sklearn.model_selection import train_test_split, GridSearchCV\n",
        "from sklearn.ensemble import RandomForestRegressor\n",
        "from catboost import CatBoostRegressor\n",
        "from sklearn.linear_model import RidgeCV\n",
        "from xgboost import XGBRegressor\n",
        "from xgboost import plot_importance\n",
        "from sklearn.metrics import mean_squared_error as RMSE\n",
        "from sklearn.decomposition import PCA\n",
        "import seaborn as sns\n",
        "from newspaper import Article\n",
        "import requests\n",
        "from bs4 import BeautifulSoup\n",
        "import io"
      ],
      "metadata": {
        "id": "4RKt4hGoTvOF"
      },
      "execution_count": 5,
      "outputs": []
    },
    {
      "cell_type": "code",
      "source": [
        "from google.colab import files\n",
        "uploaded = files.upload()"
      ],
      "metadata": {
        "colab": {
          "resources": {
            "http://localhost:8080/nbextensions/google.colab/files.js": {
              "data": "Ly8gQ29weXJpZ2h0IDIwMTcgR29vZ2xlIExMQwovLwovLyBMaWNlbnNlZCB1bmRlciB0aGUgQXBhY2hlIExpY2Vuc2UsIFZlcnNpb24gMi4wICh0aGUgIkxpY2Vuc2UiKTsKLy8geW91IG1heSBub3QgdXNlIHRoaXMgZmlsZSBleGNlcHQgaW4gY29tcGxpYW5jZSB3aXRoIHRoZSBMaWNlbnNlLgovLyBZb3UgbWF5IG9idGFpbiBhIGNvcHkgb2YgdGhlIExpY2Vuc2UgYXQKLy8KLy8gICAgICBodHRwOi8vd3d3LmFwYWNoZS5vcmcvbGljZW5zZXMvTElDRU5TRS0yLjAKLy8KLy8gVW5sZXNzIHJlcXVpcmVkIGJ5IGFwcGxpY2FibGUgbGF3IG9yIGFncmVlZCB0byBpbiB3cml0aW5nLCBzb2Z0d2FyZQovLyBkaXN0cmlidXRlZCB1bmRlciB0aGUgTGljZW5zZSBpcyBkaXN0cmlidXRlZCBvbiBhbiAiQVMgSVMiIEJBU0lTLAovLyBXSVRIT1VUIFdBUlJBTlRJRVMgT1IgQ09ORElUSU9OUyBPRiBBTlkgS0lORCwgZWl0aGVyIGV4cHJlc3Mgb3IgaW1wbGllZC4KLy8gU2VlIHRoZSBMaWNlbnNlIGZvciB0aGUgc3BlY2lmaWMgbGFuZ3VhZ2UgZ292ZXJuaW5nIHBlcm1pc3Npb25zIGFuZAovLyBsaW1pdGF0aW9ucyB1bmRlciB0aGUgTGljZW5zZS4KCi8qKgogKiBAZmlsZW92ZXJ2aWV3IEhlbHBlcnMgZm9yIGdvb2dsZS5jb2xhYiBQeXRob24gbW9kdWxlLgogKi8KKGZ1bmN0aW9uKHNjb3BlKSB7CmZ1bmN0aW9uIHNwYW4odGV4dCwgc3R5bGVBdHRyaWJ1dGVzID0ge30pIHsKICBjb25zdCBlbGVtZW50ID0gZG9jdW1lbnQuY3JlYXRlRWxlbWVudCgnc3BhbicpOwogIGVsZW1lbnQudGV4dENvbnRlbnQgPSB0ZXh0OwogIGZvciAoY29uc3Qga2V5IG9mIE9iamVjdC5rZXlzKHN0eWxlQXR0cmlidXRlcykpIHsKICAgIGVsZW1lbnQuc3R5bGVba2V5XSA9IHN0eWxlQXR0cmlidXRlc1trZXldOwogIH0KICByZXR1cm4gZWxlbWVudDsKfQoKLy8gTWF4IG51bWJlciBvZiBieXRlcyB3aGljaCB3aWxsIGJlIHVwbG9hZGVkIGF0IGEgdGltZS4KY29uc3QgTUFYX1BBWUxPQURfU0laRSA9IDEwMCAqIDEwMjQ7CgpmdW5jdGlvbiBfdXBsb2FkRmlsZXMoaW5wdXRJZCwgb3V0cHV0SWQpIHsKICBjb25zdCBzdGVwcyA9IHVwbG9hZEZpbGVzU3RlcChpbnB1dElkLCBvdXRwdXRJZCk7CiAgY29uc3Qgb3V0cHV0RWxlbWVudCA9IGRvY3VtZW50LmdldEVsZW1lbnRCeUlkKG91dHB1dElkKTsKICAvLyBDYWNoZSBzdGVwcyBvbiB0aGUgb3V0cHV0RWxlbWVudCB0byBtYWtlIGl0IGF2YWlsYWJsZSBmb3IgdGhlIG5leHQgY2FsbAogIC8vIHRvIHVwbG9hZEZpbGVzQ29udGludWUgZnJvbSBQeXRob24uCiAgb3V0cHV0RWxlbWVudC5zdGVwcyA9IHN0ZXBzOwoKICByZXR1cm4gX3VwbG9hZEZpbGVzQ29udGludWUob3V0cHV0SWQpOwp9CgovLyBUaGlzIGlzIHJvdWdobHkgYW4gYXN5bmMgZ2VuZXJhdG9yIChub3Qgc3VwcG9ydGVkIGluIHRoZSBicm93c2VyIHlldCksCi8vIHdoZXJlIHRoZXJlIGFyZSBtdWx0aXBsZSBhc3luY2hyb25vdXMgc3RlcHMgYW5kIHRoZSBQeXRob24gc2lkZSBpcyBnb2luZwovLyB0byBwb2xsIGZvciBjb21wbGV0aW9uIG9mIGVhY2ggc3RlcC4KLy8gVGhpcyB1c2VzIGEgUHJvbWlzZSB0byBibG9jayB0aGUgcHl0aG9uIHNpZGUgb24gY29tcGxldGlvbiBvZiBlYWNoIHN0ZXAsCi8vIHRoZW4gcGFzc2VzIHRoZSByZXN1bHQgb2YgdGhlIHByZXZpb3VzIHN0ZXAgYXMgdGhlIGlucHV0IHRvIHRoZSBuZXh0IHN0ZXAuCmZ1bmN0aW9uIF91cGxvYWRGaWxlc0NvbnRpbnVlKG91dHB1dElkKSB7CiAgY29uc3Qgb3V0cHV0RWxlbWVudCA9IGRvY3VtZW50LmdldEVsZW1lbnRCeUlkKG91dHB1dElkKTsKICBjb25zdCBzdGVwcyA9IG91dHB1dEVsZW1lbnQuc3RlcHM7CgogIGNvbnN0IG5leHQgPSBzdGVwcy5uZXh0KG91dHB1dEVsZW1lbnQubGFzdFByb21pc2VWYWx1ZSk7CiAgcmV0dXJuIFByb21pc2UucmVzb2x2ZShuZXh0LnZhbHVlLnByb21pc2UpLnRoZW4oKHZhbHVlKSA9PiB7CiAgICAvLyBDYWNoZSB0aGUgbGFzdCBwcm9taXNlIHZhbHVlIHRvIG1ha2UgaXQgYXZhaWxhYmxlIHRvIHRoZSBuZXh0CiAgICAvLyBzdGVwIG9mIHRoZSBnZW5lcmF0b3IuCiAgICBvdXRwdXRFbGVtZW50Lmxhc3RQcm9taXNlVmFsdWUgPSB2YWx1ZTsKICAgIHJldHVybiBuZXh0LnZhbHVlLnJlc3BvbnNlOwogIH0pOwp9CgovKioKICogR2VuZXJhdG9yIGZ1bmN0aW9uIHdoaWNoIGlzIGNhbGxlZCBiZXR3ZWVuIGVhY2ggYXN5bmMgc3RlcCBvZiB0aGUgdXBsb2FkCiAqIHByb2Nlc3MuCiAqIEBwYXJhbSB7c3RyaW5nfSBpbnB1dElkIEVsZW1lbnQgSUQgb2YgdGhlIGlucHV0IGZpbGUgcGlja2VyIGVsZW1lbnQuCiAqIEBwYXJhbSB7c3RyaW5nfSBvdXRwdXRJZCBFbGVtZW50IElEIG9mIHRoZSBvdXRwdXQgZGlzcGxheS4KICogQHJldHVybiB7IUl0ZXJhYmxlPCFPYmplY3Q+fSBJdGVyYWJsZSBvZiBuZXh0IHN0ZXBzLgogKi8KZnVuY3Rpb24qIHVwbG9hZEZpbGVzU3RlcChpbnB1dElkLCBvdXRwdXRJZCkgewogIGNvbnN0IGlucHV0RWxlbWVudCA9IGRvY3VtZW50LmdldEVsZW1lbnRCeUlkKGlucHV0SWQpOwogIGlucHV0RWxlbWVudC5kaXNhYmxlZCA9IGZhbHNlOwoKICBjb25zdCBvdXRwdXRFbGVtZW50ID0gZG9jdW1lbnQuZ2V0RWxlbWVudEJ5SWQob3V0cHV0SWQpOwogIG91dHB1dEVsZW1lbnQuaW5uZXJIVE1MID0gJyc7CgogIGNvbnN0IHBpY2tlZFByb21pc2UgPSBuZXcgUHJvbWlzZSgocmVzb2x2ZSkgPT4gewogICAgaW5wdXRFbGVtZW50LmFkZEV2ZW50TGlzdGVuZXIoJ2NoYW5nZScsIChlKSA9PiB7CiAgICAgIHJlc29sdmUoZS50YXJnZXQuZmlsZXMpOwogICAgfSk7CiAgfSk7CgogIGNvbnN0IGNhbmNlbCA9IGRvY3VtZW50LmNyZWF0ZUVsZW1lbnQoJ2J1dHRvbicpOwogIGlucHV0RWxlbWVudC5wYXJlbnRFbGVtZW50LmFwcGVuZENoaWxkKGNhbmNlbCk7CiAgY2FuY2VsLnRleHRDb250ZW50ID0gJ0NhbmNlbCB1cGxvYWQnOwogIGNvbnN0IGNhbmNlbFByb21pc2UgPSBuZXcgUHJvbWlzZSgocmVzb2x2ZSkgPT4gewogICAgY2FuY2VsLm9uY2xpY2sgPSAoKSA9PiB7CiAgICAgIHJlc29sdmUobnVsbCk7CiAgICB9OwogIH0pOwoKICAvLyBXYWl0IGZvciB0aGUgdXNlciB0byBwaWNrIHRoZSBmaWxlcy4KICBjb25zdCBmaWxlcyA9IHlpZWxkIHsKICAgIHByb21pc2U6IFByb21pc2UucmFjZShbcGlja2VkUHJvbWlzZSwgY2FuY2VsUHJvbWlzZV0pLAogICAgcmVzcG9uc2U6IHsKICAgICAgYWN0aW9uOiAnc3RhcnRpbmcnLAogICAgfQogIH07CgogIGNhbmNlbC5yZW1vdmUoKTsKCiAgLy8gRGlzYWJsZSB0aGUgaW5wdXQgZWxlbWVudCBzaW5jZSBmdXJ0aGVyIHBpY2tzIGFyZSBub3QgYWxsb3dlZC4KICBpbnB1dEVsZW1lbnQuZGlzYWJsZWQgPSB0cnVlOwoKICBpZiAoIWZpbGVzKSB7CiAgICByZXR1cm4gewogICAgICByZXNwb25zZTogewogICAgICAgIGFjdGlvbjogJ2NvbXBsZXRlJywKICAgICAgfQogICAgfTsKICB9CgogIGZvciAoY29uc3QgZmlsZSBvZiBmaWxlcykgewogICAgY29uc3QgbGkgPSBkb2N1bWVudC5jcmVhdGVFbGVtZW50KCdsaScpOwogICAgbGkuYXBwZW5kKHNwYW4oZmlsZS5uYW1lLCB7Zm9udFdlaWdodDogJ2JvbGQnfSkpOwogICAgbGkuYXBwZW5kKHNwYW4oCiAgICAgICAgYCgke2ZpbGUudHlwZSB8fCAnbi9hJ30pIC0gJHtmaWxlLnNpemV9IGJ5dGVzLCBgICsKICAgICAgICBgbGFzdCBtb2RpZmllZDogJHsKICAgICAgICAgICAgZmlsZS5sYXN0TW9kaWZpZWREYXRlID8gZmlsZS5sYXN0TW9kaWZpZWREYXRlLnRvTG9jYWxlRGF0ZVN0cmluZygpIDoKICAgICAgICAgICAgICAgICAgICAgICAgICAgICAgICAgICAgJ24vYSd9IC0gYCkpOwogICAgY29uc3QgcGVyY2VudCA9IHNwYW4oJzAlIGRvbmUnKTsKICAgIGxpLmFwcGVuZENoaWxkKHBlcmNlbnQpOwoKICAgIG91dHB1dEVsZW1lbnQuYXBwZW5kQ2hpbGQobGkpOwoKICAgIGNvbnN0IGZpbGVEYXRhUHJvbWlzZSA9IG5ldyBQcm9taXNlKChyZXNvbHZlKSA9PiB7CiAgICAgIGNvbnN0IHJlYWRlciA9IG5ldyBGaWxlUmVhZGVyKCk7CiAgICAgIHJlYWRlci5vbmxvYWQgPSAoZSkgPT4gewogICAgICAgIHJlc29sdmUoZS50YXJnZXQucmVzdWx0KTsKICAgICAgfTsKICAgICAgcmVhZGVyLnJlYWRBc0FycmF5QnVmZmVyKGZpbGUpOwogICAgfSk7CiAgICAvLyBXYWl0IGZvciB0aGUgZGF0YSB0byBiZSByZWFkeS4KICAgIGxldCBmaWxlRGF0YSA9IHlpZWxkIHsKICAgICAgcHJvbWlzZTogZmlsZURhdGFQcm9taXNlLAogICAgICByZXNwb25zZTogewogICAgICAgIGFjdGlvbjogJ2NvbnRpbnVlJywKICAgICAgfQogICAgfTsKCiAgICAvLyBVc2UgYSBjaHVua2VkIHNlbmRpbmcgdG8gYXZvaWQgbWVzc2FnZSBzaXplIGxpbWl0cy4gU2VlIGIvNjIxMTU2NjAuCiAgICBsZXQgcG9zaXRpb24gPSAwOwogICAgZG8gewogICAgICBjb25zdCBsZW5ndGggPSBNYXRoLm1pbihmaWxlRGF0YS5ieXRlTGVuZ3RoIC0gcG9zaXRpb24sIE1BWF9QQVlMT0FEX1NJWkUpOwogICAgICBjb25zdCBjaHVuayA9IG5ldyBVaW50OEFycmF5KGZpbGVEYXRhLCBwb3NpdGlvbiwgbGVuZ3RoKTsKICAgICAgcG9zaXRpb24gKz0gbGVuZ3RoOwoKICAgICAgY29uc3QgYmFzZTY0ID0gYnRvYShTdHJpbmcuZnJvbUNoYXJDb2RlLmFwcGx5KG51bGwsIGNodW5rKSk7CiAgICAgIHlpZWxkIHsKICAgICAgICByZXNwb25zZTogewogICAgICAgICAgYWN0aW9uOiAnYXBwZW5kJywKICAgICAgICAgIGZpbGU6IGZpbGUubmFtZSwKICAgICAgICAgIGRhdGE6IGJhc2U2NCwKICAgICAgICB9LAogICAgICB9OwoKICAgICAgbGV0IHBlcmNlbnREb25lID0gZmlsZURhdGEuYnl0ZUxlbmd0aCA9PT0gMCA/CiAgICAgICAgICAxMDAgOgogICAgICAgICAgTWF0aC5yb3VuZCgocG9zaXRpb24gLyBmaWxlRGF0YS5ieXRlTGVuZ3RoKSAqIDEwMCk7CiAgICAgIHBlcmNlbnQudGV4dENvbnRlbnQgPSBgJHtwZXJjZW50RG9uZX0lIGRvbmVgOwoKICAgIH0gd2hpbGUgKHBvc2l0aW9uIDwgZmlsZURhdGEuYnl0ZUxlbmd0aCk7CiAgfQoKICAvLyBBbGwgZG9uZS4KICB5aWVsZCB7CiAgICByZXNwb25zZTogewogICAgICBhY3Rpb246ICdjb21wbGV0ZScsCiAgICB9CiAgfTsKfQoKc2NvcGUuZ29vZ2xlID0gc2NvcGUuZ29vZ2xlIHx8IHt9OwpzY29wZS5nb29nbGUuY29sYWIgPSBzY29wZS5nb29nbGUuY29sYWIgfHwge307CnNjb3BlLmdvb2dsZS5jb2xhYi5fZmlsZXMgPSB7CiAgX3VwbG9hZEZpbGVzLAogIF91cGxvYWRGaWxlc0NvbnRpbnVlLAp9Owp9KShzZWxmKTsK",
              "ok": true,
              "headers": [
                [
                  "content-type",
                  "application/javascript"
                ]
              ],
              "status": 200,
              "status_text": ""
            }
          },
          "base_uri": "https://localhost:8080/",
          "height": 74
        },
        "id": "iLqZbEINV_WP",
        "outputId": "717633e5-b50c-4fb7-eb23-65d987f889df"
      },
      "execution_count": 6,
      "outputs": [
        {
          "output_type": "display_data",
          "data": {
            "text/html": [
              "\n",
              "     <input type=\"file\" id=\"files-84fda43e-2eb3-44bc-abc5-61d6c24a9706\" name=\"files[]\" multiple disabled\n",
              "        style=\"border:none\" />\n",
              "     <output id=\"result-84fda43e-2eb3-44bc-abc5-61d6c24a9706\">\n",
              "      Upload widget is only available when the cell has been executed in the\n",
              "      current browser session. Please rerun this cell to enable.\n",
              "      </output>\n",
              "      <script src=\"/nbextensions/google.colab/files.js\"></script> "
            ],
            "text/plain": [
              "<IPython.core.display.HTML object>"
            ]
          },
          "metadata": {}
        },
        {
          "output_type": "stream",
          "name": "stdout",
          "text": [
            "Saving OnlineNewsPopularity.csv to OnlineNewsPopularity.csv\n"
          ]
        }
      ]
    },
    {
      "cell_type": "code",
      "source": [
        "data = pd.read_csv(io.BytesIO(uploaded['OnlineNewsPopularity.csv']))"
      ],
      "metadata": {
        "id": "xVtuLQ5LY0vu"
      },
      "execution_count": 7,
      "outputs": []
    },
    {
      "cell_type": "code",
      "source": [
        "def cleancols(cols):\n",
        "    x = [y.lower().strip() for y in cols]\n",
        "    return x"
      ],
      "metadata": {
        "id": "DUaKA6Z2afj8"
      },
      "execution_count": 8,
      "outputs": []
    },
    {
      "cell_type": "code",
      "source": [
        "data.columns = cleancols(data.columns)\n",
        "y_labels = data['shares'] #the feature to be predicted\n",
        "df = data.drop(columns = ['url','timedelta','shares'],axis = 1) #url and timedelta are of no use to us"
      ],
      "metadata": {
        "id": "KC1jUodVa-eX"
      },
      "execution_count": 9,
      "outputs": []
    },
    {
      "cell_type": "code",
      "source": [
        "url = \"https://www.bbc.com/news/world\"\n",
        "page = requests.get(url)\n",
        "soup = BeautifulSoup(page.content,'html.parser')\n",
        "imgnews = soup.findAll('a',attrs = {'class':'gs-c-promo-heading gs-o-faux-block-link__overlay-link gel-pica-bold nw-o-link-split__anchor'})"
      ],
      "metadata": {
        "id": "yQQaK_3ybCbt"
      },
      "execution_count": 10,
      "outputs": []
    },
    {
      "cell_type": "code",
      "source": [
        "newsarts = []\n",
        "for arts in imgnews:\n",
        "    newsarts.append(\"https://www.bbc.com\"+arts['href'])"
      ],
      "metadata": {
        "id": "3zveGHvQbFw7"
      },
      "execution_count": 11,
      "outputs": []
    },
    {
      "cell_type": "code",
      "source": [
        "pca = PCA(n_components = 12)\n",
        "df_scaled = pd.DataFrame(preprocessing.scale(df),columns = df.columns)\n",
        "df_red = pca.fit_transform(df_scaled) #applying PCA on the standardized data\n",
        "explainedfeats = pd.DataFrame(pca.components_,index = ['PC-1','PC-2','PC-3','PC-4','PC-5','PC-6','PC-7','PC-8','PC-9','PC-10','PC-11','PC-12'],columns = df.columns)"
      ],
      "metadata": {
        "id": "AypF5cfmbI7l"
      },
      "execution_count": 12,
      "outputs": []
    },
    {
      "cell_type": "code",
      "source": [
        "xgb = XGBRegressor(max_depth = 10,random_state = 42)\n",
        "xgb.fit(df,y_labels)\n",
        "fig, ax = plt.subplots(1,1,figsize=(10,10))\n",
        "impplot = plot_importance(xgb,ax = ax)\n",
        "plt.show()"
      ],
      "metadata": {
        "colab": {
          "base_uri": "https://localhost:8080/",
          "height": 638
        },
        "id": "tPfGnJNKbM7R",
        "outputId": "b0523f87-750c-45a0-f72e-d35c665f0252"
      },
      "execution_count": 13,
      "outputs": [
        {
          "output_type": "stream",
          "name": "stdout",
          "text": [
            "[03:28:00] WARNING: /workspace/src/objective/regression_obj.cu:152: reg:linear is now deprecated in favor of reg:squarederror.\n"
          ]
        },
        {
          "output_type": "display_data",
          "data": {
            "image/png": "[encoded data removed]",
            "text/plain": [
              "<Figure size 720x720 with 1 Axes>"
            ]
          },
          "metadata": {
            "needs_background": "light"
          }
        }
      ]
    },
    {
      "cell_type": "code",
      "source": [
        "impfeats = [impplot.get_yticklabels()[::-1][i].get_text() for i in range(0,20)]\n",
        "print(impfeats)"
      ],
      "metadata": {
        "colab": {
          "base_uri": "https://localhost:8080/"
        },
        "id": "lEASPIEBctV0",
        "outputId": "6acfcb07-6558-4fbd-d99e-dc9195646599"
      },
      "execution_count": 14,
      "outputs": [
        {
          "output_type": "stream",
          "name": "stdout",
          "text": [
            "['n_tokens_title', 'n_tokens_content', 'kw_max_avg', 'kw_avg_avg', 'n_unique_tokens', 'average_token_length', 'num_hrefs', 'n_non_stop_unique_tokens', 'kw_avg_max', 'self_reference_min_shares', 'lda_03', 'lda_02', 'global_subjectivity', 'lda_00', 'kw_avg_min', 'lda_04', 'lda_01', 'kw_max_min', 'avg_positive_polarity', 'global_sentiment_polarity']\n"
          ]
        }
      ]
    },
    {
      "cell_type": "code",
      "source": [
        "import nltk\n",
        "nltk.download(\"stopwords\")"
      ],
      "metadata": {
        "colab": {
          "base_uri": "https://localhost:8080/"
        },
        "id": "8bh0O5gCddNN",
        "outputId": "ad156603-d8ad-448b-e330-dc2e801aab47"
      },
      "execution_count": 15,
      "outputs": [
        {
          "output_type": "stream",
          "name": "stdout",
          "text": [
            "[nltk_data] Downloading package stopwords to /root/nltk_data...\n",
            "[nltk_data]   Unzipping corpora/stopwords.zip.\n"
          ]
        },
        {
          "output_type": "execute_result",
          "data": {
            "text/plain": [
              "True"
            ]
          },
          "metadata": {},
          "execution_count": 15
        }
      ]
    },
    {
      "cell_type": "code",
      "source": [
        "from nltk.tokenize import word_tokenize \n",
        "from nltk.corpus import stopwords\n",
        "stopwords=set(stopwords.words('english'))\n",
        "from textblob import TextBlob #for subjectivity and polarity purpose"
      ],
      "metadata": {
        "id": "hk-DzMwtcxOm"
      },
      "execution_count": 16,
      "outputs": []
    },
    {
      "cell_type": "code",
      "source": [
        "def tokenizetext(text):\n",
        "    return word_tokenize(text)\n",
        "def words(text):\n",
        "    l = [word for word in word_tokenize(text) if word.isalpha()]\n",
        "    return l\n",
        "def unique_words(text):\n",
        "    return list(set(words(text)))\n",
        "def rate_uni_words(text):\n",
        "    uni_words = len(unique_words(text))/len(words(text))\n",
        "    return uni_words\n",
        "def avglengthtoken(text):\n",
        "    w = words(text)\n",
        "    sum = 0\n",
        "    for item in w:\n",
        "        sum+=len(item)\n",
        "    avglen = sum/len(w)\n",
        "    return avglen\n",
        "def n_non_stop_unique_tokens(text):\n",
        "    uw = unique_words(text)\n",
        "    n_uw = [item for item in uw if item not in stopwords]\n",
        "    w = words(text)\n",
        "    n_w = [item for item in w if item not in stopwords]\n",
        "    rate_nsut = len(n_uw)/len(n_w)\n",
        "    return rate_nsut\n",
        "def numlinks(article):\n",
        "    return len(BeautifulSoup(sampletext.html).findAll('link'))\n",
        "def get_subjectivity(a_text):\n",
        "    return a_text.sentiment.subjectivity\n",
        "def get_polarity(a_text):\n",
        "    return a_text.sentiment.polarity\n",
        "def word_polarity(words):\n",
        "    pos_words = []\n",
        "    ppos_words = [] # polarity of pos words\n",
        "    neg_words = []\n",
        "    pneg_words = [] # polarity of negative words\n",
        "    neu_words = []\n",
        "    pneu_words = [] # polarity of neutral words\n",
        "    for w in words:\n",
        "        an_word = TextBlob(w)\n",
        "        val = an_word.sentiment.polarity\n",
        "        if val > 0:\n",
        "            pos_words.append(w)\n",
        "            ppos_words.append(val)\n",
        "        if val < 0:\n",
        "            neg_words.append(w)\n",
        "            pneg_words.append(val)\n",
        "        if val == 0 :\n",
        "            neu_words.append(w)\n",
        "            pneu_words.append(val)\n",
        "    return pos_words,ppos_words,neg_words,pneg_words,neu_words,pneu_words\n",
        "def avg_pol_pw(text):    \n",
        "    totalwords = words(text)\n",
        "    res = word_polarity(totalwords)\n",
        "    return np.sum(res[1])/len(res[0])\n",
        "def avg_pol_nw(text):    \n",
        "    totalwords = words(text)\n",
        "    res = word_polarity(totalwords)\n",
        "    return np.sum(res[3])/len(res[2])"
      ],
      "metadata": {
        "id": "5D7mJqIed9N5"
      },
      "execution_count": 17,
      "outputs": []
    },
    {
      "cell_type": "code",
      "source": [
        "import nltk\n",
        "nltk.download('punkt')"
      ],
      "metadata": {
        "colab": {
          "base_uri": "https://localhost:8080/"
        },
        "id": "YRj7OxbXefGs",
        "outputId": "cd238b81-9dd0-49a8-8204-d3b2b0b5b115"
      },
      "execution_count": 18,
      "outputs": [
        {
          "output_type": "stream",
          "name": "stdout",
          "text": [
            "[nltk_data] Downloading package punkt to /root/nltk_data...\n",
            "[nltk_data]   Unzipping tokenizers/punkt.zip.\n"
          ]
        },
        {
          "output_type": "execute_result",
          "data": {
            "text/plain": [
              "True"
            ]
          },
          "metadata": {},
          "execution_count": 18
        }
      ]
    },
    {
      "cell_type": "code",
      "source": [
        "finrows = []\n",
        "for article in newsarts[0:25]:\n",
        "    sampletext = Article(article, language = 'en')\n",
        "    sampletext.download()\n",
        "    sampletext.parse()\n",
        "    sampletext.nlp() \n",
        "    \n",
        "    row = {}\n",
        "    row['n_tokens_title'] = len(words(sampletext.title))\n",
        "    row['n_tokens_content'] = len(words(sampletext.text))\n",
        "    row['n_unique_tokens'] = len(unique_words(sampletext.text))\n",
        "    row['average_token_length'] = avglengthtoken(sampletext.text)\n",
        "    row['n_non_stop_unique_tokens'] = n_non_stop_unique_tokens(sampletext.text)\n",
        "    row['num_hrefs'] = numlinks(sampletext)\n",
        "    \n",
        "    analysed_text = TextBlob(sampletext.text)\n",
        "    row['global_subjectivity'] = get_subjectivity(analysed_text)\n",
        "    row['avg_positive_polarity'] = avg_pol_pw(sampletext.text)\n",
        "    row['global_sentiment_polarity'] = get_polarity(analysed_text)\n",
        "    finrows.append(row)\n",
        "#converting the list to a dataframe\n",
        "masterdf = pd.DataFrame(finrows, columns = ['n_tokens_title','n_tokens_content','n_unique_tokens','average_token_length','n_non_stop_unique_tokens','num_hrefs','global_subjectivity',\n",
        "                                   'avg_positive_polarity','global_sentiment_polarity'])"
      ],
      "metadata": {
        "colab": {
          "base_uri": "https://localhost:8080/"
        },
        "id": "GFKrj0w0ePhs",
        "outputId": "8fed6b2e-1639-4187-fa7d-5e51700fd869"
      },
      "execution_count": 19,
      "outputs": [
        {
          "output_type": "stream",
          "name": "stderr",
          "text": [
            "/usr/local/lib/python3.7/dist-packages/ipykernel_launcher.py:54: RuntimeWarning: invalid value encountered in double_scalars\n"
          ]
        }
      ]
    },
    {
      "cell_type": "code",
      "source": [
        "np.any(np.isnan(masterdf))"
      ],
      "metadata": {
        "colab": {
          "base_uri": "https://localhost:8080/"
        },
        "id": "yaFe8p9mfR2G",
        "outputId": "f9394f30-2808-4b1b-db64-9d3fcde062c2"
      },
      "execution_count": 56,
      "outputs": [
        {
          "output_type": "execute_result",
          "data": {
            "text/plain": [
              "True"
            ]
          },
          "metadata": {},
          "execution_count": 56
        }
      ]
    },
    {
      "cell_type": "code",
      "source": [
        "df_reduced = df[masterdf.columns]"
      ],
      "metadata": {
        "id": "BsTce2g5eoG9"
      },
      "execution_count": 20,
      "outputs": []
    },
    {
      "cell_type": "code",
      "source": [
        "xtrain, xtest, ytrain, ytest = train_test_split(df_reduced, y_labels, test_size = 0.2, shuffle = True, random_state = 42)"
      ],
      "metadata": {
        "id": "czIOQByNexsX"
      },
      "execution_count": 21,
      "outputs": []
    },
    {
      "cell_type": "code",
      "source": [
        "xgb2 = XGBRegressor(random_state = 42)\n",
        "paramsxgb = {'max_depth':[5,20,50,100]}\n",
        "gsc = GridSearchCV(estimator = xgb2,param_grid = paramsxgb, cv = 3, scoring = 'neg_root_mean_squared_error')\n",
        "gscres = gsc.fit(xtrain,ytrain)\n",
        "gscres.best_params_"
      ],
      "metadata": {
        "colab": {
          "base_uri": "https://localhost:8080/"
        },
        "id": "RRdnEn3Je15P",
        "outputId": "41047519-beac-4e3e-e8e3-7d004b72f190"
      },
      "execution_count": 22,
      "outputs": [
        {
          "output_type": "stream",
          "name": "stdout",
          "text": [
            "[03:29:56] WARNING: /workspace/src/objective/regression_obj.cu:152: reg:linear is now deprecated in favor of reg:squarederror.\n",
            "[03:29:59] WARNING: /workspace/src/objective/regression_obj.cu:152: reg:linear is now deprecated in favor of reg:squarederror.\n",
            "[03:30:01] WARNING: /workspace/src/objective/regression_obj.cu:152: reg:linear is now deprecated in favor of reg:squarederror.\n",
            "[03:30:04] WARNING: /workspace/src/objective/regression_obj.cu:152: reg:linear is now deprecated in favor of reg:squarederror.\n",
            "[03:30:16] WARNING: /workspace/src/objective/regression_obj.cu:152: reg:linear is now deprecated in favor of reg:squarederror.\n",
            "[03:30:29] WARNING: /workspace/src/objective/regression_obj.cu:152: reg:linear is now deprecated in favor of reg:squarederror.\n",
            "[03:30:42] WARNING: /workspace/src/objective/regression_obj.cu:152: reg:linear is now deprecated in favor of reg:squarederror.\n",
            "[03:31:06] WARNING: /workspace/src/objective/regression_obj.cu:152: reg:linear is now deprecated in favor of reg:squarederror.\n",
            "[03:31:29] WARNING: /workspace/src/objective/regression_obj.cu:152: reg:linear is now deprecated in favor of reg:squarederror.\n",
            "[03:31:52] WARNING: /workspace/src/objective/regression_obj.cu:152: reg:linear is now deprecated in favor of reg:squarederror.\n",
            "[03:32:17] WARNING: /workspace/src/objective/regression_obj.cu:152: reg:linear is now deprecated in favor of reg:squarederror.\n",
            "[03:32:41] WARNING: /workspace/src/objective/regression_obj.cu:152: reg:linear is now deprecated in favor of reg:squarederror.\n",
            "[03:33:04] WARNING: /workspace/src/objective/regression_obj.cu:152: reg:linear is now deprecated in favor of reg:squarederror.\n"
          ]
        },
        {
          "output_type": "execute_result",
          "data": {
            "text/plain": [
              "{'max_depth': 5}"
            ]
          },
          "metadata": {},
          "execution_count": 22
        }
      ]
    },
    {
      "cell_type": "code",
      "source": [
        "xgb2.max_depth = gscres.best_params_['max_depth']\n",
        "boost = ['gbtree','gblinear']\n",
        "rmsescores = {}\n",
        "for b in boost:\n",
        "    xgb2.booster = b\n",
        "    xgb2.fit(xtrain,ytrain)\n",
        "    predicted = xgb2.predict(xtest)\n",
        "    rmsescores['xgb-'+b] = RMSE(ytest,predicted,squared = False)\n",
        "    print(\"RMSE error with {} booster is {} :\".format(b,RMSE(ytest,predicted,squared = False)))"
      ],
      "metadata": {
        "colab": {
          "base_uri": "https://localhost:8080/"
        },
        "id": "P5km9hMwfGbG",
        "outputId": "ee1f6822-0370-4013-d5cd-7f9e03337b27"
      },
      "execution_count": 23,
      "outputs": [
        {
          "output_type": "stream",
          "name": "stdout",
          "text": [
            "[03:33:27] WARNING: /workspace/src/objective/regression_obj.cu:152: reg:linear is now deprecated in favor of reg:squarederror.\n",
            "RMSE error with gbtree booster is 11075.818508248849 :\n",
            "[03:33:30] WARNING: /workspace/src/objective/regression_obj.cu:152: reg:linear is now deprecated in favor of reg:squarederror.\n",
            "RMSE error with gblinear booster is 10978.23531369271 :\n"
          ]
        }
      ]
    },
    {
      "cell_type": "code",
      "source": [
        "xgb2.booster = 'gblinear'"
      ],
      "metadata": {
        "id": "SST_hJ2MKdNH"
      },
      "execution_count": 24,
      "outputs": []
    },
    {
      "cell_type": "code",
      "source": [
        "rf = RandomForestRegressor(random_state = 42)\n",
        "paramsrf = {'max_depth':[5,20,50,100]}\n",
        "gsc = GridSearchCV(estimator = rf,param_grid = paramsrf, cv = 3, scoring = 'neg_root_mean_squared_error')\n",
        "gscres = gsc.fit(xtrain,ytrain)\n",
        "gscres.best_params_"
      ],
      "metadata": {
        "colab": {
          "base_uri": "https://localhost:8080/"
        },
        "id": "hdVd9bbJip03",
        "outputId": "69d1c8ef-3e10-4090-d89f-c53e96697fb3"
      },
      "execution_count": 25,
      "outputs": [
        {
          "output_type": "execute_result",
          "data": {
            "text/plain": [
              "{'max_depth': 5}"
            ]
          },
          "metadata": {},
          "execution_count": 25
        }
      ]
    },
    {
      "cell_type": "code",
      "source": [
        "rf.max_depth = gscres.best_params_['max_depth']\n",
        "rf.fit(xtrain,ytrain)\n",
        "predictedrf = rf.predict(xtest)\n",
        "rmsescores['rf'] = RMSE(ytest,predictedrf,squared = False)\n",
        "print(\"RMSE error with Random Forest Regressor is {} :\".format(RMSE(ytest,predicted,squared = False)))"
      ],
      "metadata": {
        "colab": {
          "base_uri": "https://localhost:8080/"
        },
        "id": "iAr0lRhljpLF",
        "outputId": "35fb8d45-2b03-4de3-8cdb-a588a45dd0c5"
      },
      "execution_count": 26,
      "outputs": [
        {
          "output_type": "stream",
          "name": "stdout",
          "text": [
            "RMSE error with Random Forest Regressor is 10978.23531369271 :\n"
          ]
        }
      ]
    },
    {
      "cell_type": "code",
      "source": [
        "lr = RidgeCV(alphas = [0.001,0.1,1,5,10,100],scoring = 'neg_root_mean_squared_error', cv = None, store_cv_values = True)\n",
        "lr.fit(xtrain,ytrain)"
      ],
      "metadata": {
        "id": "3RN0lgTpKt-M",
        "colab": {
          "base_uri": "https://localhost:8080/"
        },
        "outputId": "f0f020f9-a3da-40ec-c347-44a02f24d3e5"
      },
      "execution_count": 27,
      "outputs": [
        {
          "output_type": "execute_result",
          "data": {
            "text/plain": [
              "RidgeCV(alphas=array([1.e-03, 1.e-01, 1.e+00, 5.e+00, 1.e+01, 1.e+02]),\n",
              "        scoring='neg_root_mean_squared_error', store_cv_values=True)"
            ]
          },
          "metadata": {},
          "execution_count": 27
        }
      ]
    },
    {
      "cell_type": "code",
      "source": [
        "predictedlr = lr.predict(xtest)\n",
        "rmsescores['ridgecv'] = RMSE(ytest,predictedlr,squared = False)\n",
        "print(\"RMSE error with Linear Regression via RidgeCV is {} :\".format(RMSE(ytest,predictedlr,squared = False)))"
      ],
      "metadata": {
        "id": "a-jPa2OEKxj2",
        "colab": {
          "base_uri": "https://localhost:8080/"
        },
        "outputId": "c63490c9-bb32-49d8-d165-311a51da611d"
      },
      "execution_count": 28,
      "outputs": [
        {
          "output_type": "stream",
          "name": "stdout",
          "text": [
            "RMSE error with Linear Regression via RidgeCV is 10952.05810736365 :\n"
          ]
        }
      ]
    },
    {
      "cell_type": "code",
      "source": [
        "cb = CatBoostRegressor(verbose = 0,random_state = 42,eval_metric = 'RMSE')\n",
        "paramscb = {'iterations':[1,10,50,100],'learning_rate':[0.03,0.1,0.5,1],'depth':[3,5,8,10]}\n",
        "gsc = GridSearchCV(estimator = cb,param_grid = paramscb, cv = 3, scoring = 'neg_root_mean_squared_error')\n",
        "gscres = gsc.fit(xtrain,ytrain)\n",
        "gscres.best_params_"
      ],
      "metadata": {
        "id": "D5LBq4p8K0J0",
        "colab": {
          "base_uri": "https://localhost:8080/"
        },
        "outputId": "30abd0c0-8efe-49dc-c284-96de2623c441"
      },
      "execution_count": 29,
      "outputs": [
        {
          "output_type": "execute_result",
          "data": {
            "text/plain": [
              "{'depth': 10, 'iterations': 100, 'learning_rate': 0.03}"
            ]
          },
          "metadata": {},
          "execution_count": 29
        }
      ]
    },
    {
      "cell_type": "code",
      "source": [
        "cb.iterations = gscres.best_params_['iterations']\n",
        "cb.learning_rate = gscres.best_params_['learning_rate']\n",
        "cb.depth = gscres.best_params_['depth']\n",
        "cb.fit(xtrain,ytrain)"
      ],
      "metadata": {
        "id": "3SPzq1RcK2js",
        "colab": {
          "base_uri": "https://localhost:8080/"
        },
        "outputId": "b6a59148-a6e0-4d72-c432-0099c3248f6b"
      },
      "execution_count": 30,
      "outputs": [
        {
          "output_type": "execute_result",
          "data": {
            "text/plain": [
              "<catboost.core.CatBoostRegressor at 0x7f70e5920450>"
            ]
          },
          "metadata": {},
          "execution_count": 30
        }
      ]
    },
    {
      "cell_type": "code",
      "source": [
        "predictedcb = cb.predict(xtest)\n",
        "rmsescores['catboost'] = RMSE(ytest,predictedcb,squared = False)\n",
        "print(\"RMSE error with CatBoost is {} :\".format(RMSE(ytest,predictedcb,squared = False)))"
      ],
      "metadata": {
        "id": "Uz4QlFS0K5pp",
        "colab": {
          "base_uri": "https://localhost:8080/"
        },
        "outputId": "4e2a2e6e-487a-4333-c52d-e3f41929f25e"
      },
      "execution_count": 31,
      "outputs": [
        {
          "output_type": "stream",
          "name": "stdout",
          "text": [
            "RMSE error with CatBoost is 11308.71909240918 :\n"
          ]
        }
      ]
    },
    {
      "cell_type": "code",
      "source": [
        "pip install -U scikit-learn"
      ],
      "metadata": {
        "id": "zKVvut6kkZJi"
      },
      "execution_count": null,
      "outputs": []
    },
    {
      "cell_type": "code",
      "source": [
        "np.all(np.isfinite(masterdf))"
      ],
      "metadata": {
        "colab": {
          "base_uri": "https://localhost:8080/"
        },
        "id": "T3HpsseBiNiO",
        "outputId": "8552aac8-c081-47b7-ec24-f22dcecf7504"
      },
      "execution_count": 62,
      "outputs": [
        {
          "output_type": "execute_result",
          "data": {
            "text/plain": [
              "False"
            ]
          },
          "metadata": {},
          "execution_count": 62
        }
      ]
    },
    {
      "cell_type": "code",
      "source": [
        "masterdf.replace([np.inf, -np.inf], np.nan, inplace=True)\n",
        "masterdf.fillna(masterdf.mean(), inplace=True)\n",
        "predlr = lr.predict(masterdf)\n",
        "lrdata = {'Links':list(newsarts[:25]),'Predicted Virality':list(predlr)}\n",
        "pd.DataFrame(lrdata).reindex(np.arange(0,25,1))\n"
      ],
      "metadata": {
        "id": "JytoiNdQLGwS",
        "colab": {
          "base_uri": "https://localhost:8080/",
          "height": 833
        },
        "outputId": "63b84cb0-8483-4065-e149-1cd358be3a51"
      },
      "execution_count": 72,
      "outputs": [
        {
          "output_type": "execute_result",
          "data": {
            "text/html": [
              "\n",
              "  <div id=\"df-455851f3-4872-48fc-9f34-876f33a27b73\">\n",
              "    <div class=\"colab-df-container\">\n",
              "      <div>\n",
              "<style scoped>\n",
              "    .dataframe tbody tr th:only-of-type {\n",
              "        vertical-align: middle;\n",
              "    }\n",
              "\n",
              "    .dataframe tbody tr th {\n",
              "        vertical-align: top;\n",
              "    }\n",
              "\n",
              "    .dataframe thead th {\n",
              "        text-align: right;\n",
              "    }\n",
              "</style>\n",
              "<table border=\"1\" class=\"dataframe\">\n",
              "  <thead>\n",
              "    <tr style=\"text-align: right;\">\n",
              "      <th></th>\n",
              "      <th>Links</th>\n",
              "      <th>Predicted Virality</th>\n",
              "    </tr>\n",
              "  </thead>\n",
              "  <tbody>\n",
              "    <tr>\n",
              "      <th>0</th>\n",
              "      <td>https://www.bbc.com/news/world-asia-india-5983...</td>\n",
              "      <td>6.275222e+04</td>\n",
              "    </tr>\n",
              "    <tr>\n",
              "      <th>1</th>\n",
              "      <td>https://www.bbc.com/news/world-europe-59871779</td>\n",
              "      <td>7.387447e+04</td>\n",
              "    </tr>\n",
              "    <tr>\n",
              "      <th>2</th>\n",
              "      <td>https://www.bbc.com/news/world-australia-59876203</td>\n",
              "      <td>5.948864e+04</td>\n",
              "    </tr>\n",
              "    <tr>\n",
              "      <th>3</th>\n",
              "      <td>https://www.bbc.com/news/world-asia-59876095</td>\n",
              "      <td>5.037410e+04</td>\n",
              "    </tr>\n",
              "    <tr>\n",
              "      <th>4</th>\n",
              "      <td>https://www.bbc.com/news/world-latin-america-5...</td>\n",
              "      <td>4.613880e+04</td>\n",
              "    </tr>\n",
              "    <tr>\n",
              "      <th>5</th>\n",
              "      <td>https://www.bbc.com/news/world-us-canada-59876423</td>\n",
              "      <td>1.260703e+05</td>\n",
              "    </tr>\n",
              "    <tr>\n",
              "      <th>6</th>\n",
              "      <td>https://www.bbc.com/news/world-asia-india-5983...</td>\n",
              "      <td>6.275222e+04</td>\n",
              "    </tr>\n",
              "    <tr>\n",
              "      <th>7</th>\n",
              "      <td>https://www.bbc.com/news/world-europe-59871779</td>\n",
              "      <td>7.387447e+04</td>\n",
              "    </tr>\n",
              "    <tr>\n",
              "      <th>8</th>\n",
              "      <td>https://www.bbc.com/news/world-australia-59876203</td>\n",
              "      <td>5.948864e+04</td>\n",
              "    </tr>\n",
              "    <tr>\n",
              "      <th>9</th>\n",
              "      <td>https://www.bbc.com/news/world-asia-59876095</td>\n",
              "      <td>5.037410e+04</td>\n",
              "    </tr>\n",
              "    <tr>\n",
              "      <th>10</th>\n",
              "      <td>https://www.bbc.com/news/world-latin-america-5...</td>\n",
              "      <td>4.613880e+04</td>\n",
              "    </tr>\n",
              "    <tr>\n",
              "      <th>11</th>\n",
              "      <td>https://www.bbc.com/news/world-us-canada-59876423</td>\n",
              "      <td>1.260703e+05</td>\n",
              "    </tr>\n",
              "    <tr>\n",
              "      <th>12</th>\n",
              "      <td>https://www.bbc.com/news/world-asia-india-5983...</td>\n",
              "      <td>6.275222e+04</td>\n",
              "    </tr>\n",
              "    <tr>\n",
              "      <th>13</th>\n",
              "      <td>https://www.bbc.com/news/world-europe-59871779</td>\n",
              "      <td>7.387447e+04</td>\n",
              "    </tr>\n",
              "    <tr>\n",
              "      <th>14</th>\n",
              "      <td>https://www.bbc.com/news/world-australia-59876203</td>\n",
              "      <td>5.948864e+04</td>\n",
              "    </tr>\n",
              "    <tr>\n",
              "      <th>15</th>\n",
              "      <td>https://www.bbc.com/news/world-asia-59876095</td>\n",
              "      <td>5.037410e+04</td>\n",
              "    </tr>\n",
              "    <tr>\n",
              "      <th>16</th>\n",
              "      <td>https://www.bbc.com/news/world-latin-america-5...</td>\n",
              "      <td>4.613880e+04</td>\n",
              "    </tr>\n",
              "    <tr>\n",
              "      <th>17</th>\n",
              "      <td>https://www.bbc.com/news/world-us-canada-59876423</td>\n",
              "      <td>1.260703e+05</td>\n",
              "    </tr>\n",
              "    <tr>\n",
              "      <th>18</th>\n",
              "      <td>https://www.bbc.com/news/world-us-canada-59876583</td>\n",
              "      <td>6.855032e+04</td>\n",
              "    </tr>\n",
              "    <tr>\n",
              "      <th>19</th>\n",
              "      <td>https://www.bbc.com/news/world-latin-america-5...</td>\n",
              "      <td>1.163423e+06</td>\n",
              "    </tr>\n",
              "    <tr>\n",
              "      <th>20</th>\n",
              "      <td>https://www.bbc.com/news/uk-59865102</td>\n",
              "      <td>5.633607e+04</td>\n",
              "    </tr>\n",
              "    <tr>\n",
              "      <th>21</th>\n",
              "      <td>https://www.bbc.com/news/world-us-canada-59833123</td>\n",
              "      <td>9.837775e+04</td>\n",
              "    </tr>\n",
              "    <tr>\n",
              "      <th>22</th>\n",
              "      <td>https://www.bbc.com/news/world-asia-59876093</td>\n",
              "      <td>1.147484e+06</td>\n",
              "    </tr>\n",
              "    <tr>\n",
              "      <th>23</th>\n",
              "      <td>https://www.bbc.com/news/technology-59867772</td>\n",
              "      <td>8.253424e+04</td>\n",
              "    </tr>\n",
              "    <tr>\n",
              "      <th>24</th>\n",
              "      <td>https://www.bbc.com/news/world-asia-india-5980...</td>\n",
              "      <td>9.045143e+04</td>\n",
              "    </tr>\n",
              "  </tbody>\n",
              "</table>\n",
              "</div>\n",
              "      <button class=\"colab-df-convert\" onclick=\"convertToInteractive('df-455851f3-4872-48fc-9f34-876f33a27b73')\"\n",
              "              title=\"Convert this dataframe to an interactive table.\"\n",
              "              style=\"display:none;\">\n",
              "        \n",
              "  <svg xmlns=\"http://www.w3.org/2000/svg\" height=\"24px\"viewBox=\"0 0 24 24\"\n",
              "       width=\"24px\">\n",
              "    <path d=\"M0 0h24v24H0V0z\" fill=\"none\"/>\n",
              "    <path d=\"M18.56 5.44l.94 2.06.94-2.06 2.06-.94-2.06-.94-.94-2.06-.94 2.06-2.06.94zm-11 1L8.5 8.5l.94-2.06 2.06-.94-2.06-.94L8.5 2.5l-.94 2.06-2.06.94zm10 10l.94 2.06.94-2.06 2.06-.94-2.06-.94-.94-2.06-.94 2.06-2.06.94z\"/><path d=\"M17.41 7.96l-1.37-1.37c-.4-.4-.92-.59-1.43-.59-.52 0-1.04.2-1.43.59L10.3 9.45l-7.72 7.72c-.78.78-.78 2.05 0 2.83L4 21.41c.39.39.9.59 1.41.59.51 0 1.02-.2 1.41-.59l7.78-7.78 2.81-2.81c.8-.78.8-2.07 0-2.86zM5.41 20L4 18.59l7.72-7.72 1.47 1.35L5.41 20z\"/>\n",
              "  </svg>\n",
              "      </button>\n",
              "      \n",
              "  <style>\n",
              "    .colab-df-container {\n",
              "      display:flex;\n",
              "      flex-wrap:wrap;\n",
              "      gap: 12px;\n",
              "    }\n",
              "\n",
              "    .colab-df-convert {\n",
              "      background-color: #E8F0FE;\n",
              "      border: none;\n",
              "      border-radius: 50%;\n",
              "      cursor: pointer;\n",
              "      display: none;\n",
              "      fill: #1967D2;\n",
              "      height: 32px;\n",
              "      padding: 0 0 0 0;\n",
              "      width: 32px;\n",
              "    }\n",
              "\n",
              "    .colab-df-convert:hover {\n",
              "      background-color: #E2EBFA;\n",
              "      box-shadow: 0px 1px 2px rgba(60, 64, 67, 0.3), 0px 1px 3px 1px rgba(60, 64, 67, 0.15);\n",
              "      fill: #174EA6;\n",
              "    }\n",
              "\n",
              "    [theme=dark] .colab-df-convert {\n",
              "      background-color: #3B4455;\n",
              "      fill: #D2E3FC;\n",
              "    }\n",
              "\n",
              "    [theme=dark] .colab-df-convert:hover {\n",
              "      background-color: #434B5C;\n",
              "      box-shadow: 0px 1px 3px 1px rgba(0, 0, 0, 0.15);\n",
              "      filter: drop-shadow(0px 1px 2px rgba(0, 0, 0, 0.3));\n",
              "      fill: #FFFFFF;\n",
              "    }\n",
              "  </style>\n",
              "\n",
              "      <script>\n",
              "        const buttonEl =\n",
              "          document.querySelector('#df-455851f3-4872-48fc-9f34-876f33a27b73 button.colab-df-convert');\n",
              "        buttonEl.style.display =\n",
              "          google.colab.kernel.accessAllowed ? 'block' : 'none';\n",
              "\n",
              "        async function convertToInteractive(key) {\n",
              "          const element = document.querySelector('#df-455851f3-4872-48fc-9f34-876f33a27b73');\n",
              "          const dataTable =\n",
              "            await google.colab.kernel.invokeFunction('convertToInteractive',\n",
              "                                                     [key], {});\n",
              "          if (!dataTable) return;\n",
              "\n",
              "          const docLinkHtml = 'Like what you see? Visit the ' +\n",
              "            '<a target=\"_blank\" href=https://colab.research.google.com/notebooks/data_table.ipynb>data table notebook</a>'\n",
              "            + ' to learn more about interactive tables.';\n",
              "          element.innerHTML = '';\n",
              "          dataTable['output_type'] = 'display_data';\n",
              "          await google.colab.output.renderOutput(dataTable, element);\n",
              "          const docLink = document.createElement('div');\n",
              "          docLink.innerHTML = docLinkHtml;\n",
              "          element.appendChild(docLink);\n",
              "        }\n",
              "      </script>\n",
              "    </div>\n",
              "  </div>\n",
              "  "
            ],
            "text/plain": [
              "                                                Links  Predicted Virality\n",
              "0   https://www.bbc.com/news/world-asia-india-5983...        6.275222e+04\n",
              "1      https://www.bbc.com/news/world-europe-59871779        7.387447e+04\n",
              "2   https://www.bbc.com/news/world-australia-59876203        5.948864e+04\n",
              "3        https://www.bbc.com/news/world-asia-59876095        5.037410e+04\n",
              "4   https://www.bbc.com/news/world-latin-america-5...        4.613880e+04\n",
              "5   https://www.bbc.com/news/world-us-canada-59876423        1.260703e+05\n",
              "6   https://www.bbc.com/news/world-asia-india-5983...        6.275222e+04\n",
              "7      https://www.bbc.com/news/world-europe-59871779        7.387447e+04\n",
              "8   https://www.bbc.com/news/world-australia-59876203        5.948864e+04\n",
              "9        https://www.bbc.com/news/world-asia-59876095        5.037410e+04\n",
              "10  https://www.bbc.com/news/world-latin-america-5...        4.613880e+04\n",
              "11  https://www.bbc.com/news/world-us-canada-59876423        1.260703e+05\n",
              "12  https://www.bbc.com/news/world-asia-india-5983...        6.275222e+04\n",
              "13     https://www.bbc.com/news/world-europe-59871779        7.387447e+04\n",
              "14  https://www.bbc.com/news/world-australia-59876203        5.948864e+04\n",
              "15       https://www.bbc.com/news/world-asia-59876095        5.037410e+04\n",
              "16  https://www.bbc.com/news/world-latin-america-5...        4.613880e+04\n",
              "17  https://www.bbc.com/news/world-us-canada-59876423        1.260703e+05\n",
              "18  https://www.bbc.com/news/world-us-canada-59876583        6.855032e+04\n",
              "19  https://www.bbc.com/news/world-latin-america-5...        1.163423e+06\n",
              "20               https://www.bbc.com/news/uk-59865102        5.633607e+04\n",
              "21  https://www.bbc.com/news/world-us-canada-59833123        9.837775e+04\n",
              "22       https://www.bbc.com/news/world-asia-59876093        1.147484e+06\n",
              "23       https://www.bbc.com/news/technology-59867772        8.253424e+04\n",
              "24  https://www.bbc.com/news/world-asia-india-5980...        9.045143e+04"
            ]
          },
          "metadata": {},
          "execution_count": 72
        }
      ]
    },
    {
      "cell_type": "code",
      "source": [
        "predcb = cb.predict(masterdf)\n",
        "cbdata = {'Links':list(newsarts[0:25]),'Predicted Virality':list(predcb)}\n",
        "pd.DataFrame(cbdata).reindex(np.arange(0,25,1))"
      ],
      "metadata": {
        "id": "O9uRWmQkLPOG",
        "colab": {
          "base_uri": "https://localhost:8080/",
          "height": 833
        },
        "outputId": "e369902f-c745-465e-a2cc-0c5158310f41"
      },
      "execution_count": 73,
      "outputs": [
        {
          "output_type": "execute_result",
          "data": {
            "text/html": [
              "\n",
              "  <div id=\"df-fc6223a1-1565-47ee-bacc-b12fc4b3b822\">\n",
              "    <div class=\"colab-df-container\">\n",
              "      <div>\n",
              "<style scoped>\n",
              "    .dataframe tbody tr th:only-of-type {\n",
              "        vertical-align: middle;\n",
              "    }\n",
              "\n",
              "    .dataframe tbody tr th {\n",
              "        vertical-align: top;\n",
              "    }\n",
              "\n",
              "    .dataframe thead th {\n",
              "        text-align: right;\n",
              "    }\n",
              "</style>\n",
              "<table border=\"1\" class=\"dataframe\">\n",
              "  <thead>\n",
              "    <tr style=\"text-align: right;\">\n",
              "      <th></th>\n",
              "      <th>Links</th>\n",
              "      <th>Predicted Virality</th>\n",
              "    </tr>\n",
              "  </thead>\n",
              "  <tbody>\n",
              "    <tr>\n",
              "      <th>0</th>\n",
              "      <td>https://www.bbc.com/news/world-asia-india-5983...</td>\n",
              "      <td>1651.720567</td>\n",
              "    </tr>\n",
              "    <tr>\n",
              "      <th>1</th>\n",
              "      <td>https://www.bbc.com/news/world-europe-59871779</td>\n",
              "      <td>662.308598</td>\n",
              "    </tr>\n",
              "    <tr>\n",
              "      <th>2</th>\n",
              "      <td>https://www.bbc.com/news/world-australia-59876203</td>\n",
              "      <td>3866.478567</td>\n",
              "    </tr>\n",
              "    <tr>\n",
              "      <th>3</th>\n",
              "      <td>https://www.bbc.com/news/world-asia-59876095</td>\n",
              "      <td>1219.957718</td>\n",
              "    </tr>\n",
              "    <tr>\n",
              "      <th>4</th>\n",
              "      <td>https://www.bbc.com/news/world-latin-america-5...</td>\n",
              "      <td>1070.431904</td>\n",
              "    </tr>\n",
              "    <tr>\n",
              "      <th>5</th>\n",
              "      <td>https://www.bbc.com/news/world-us-canada-59876423</td>\n",
              "      <td>2980.590227</td>\n",
              "    </tr>\n",
              "    <tr>\n",
              "      <th>6</th>\n",
              "      <td>https://www.bbc.com/news/world-asia-india-5983...</td>\n",
              "      <td>1651.720567</td>\n",
              "    </tr>\n",
              "    <tr>\n",
              "      <th>7</th>\n",
              "      <td>https://www.bbc.com/news/world-europe-59871779</td>\n",
              "      <td>662.308598</td>\n",
              "    </tr>\n",
              "    <tr>\n",
              "      <th>8</th>\n",
              "      <td>https://www.bbc.com/news/world-australia-59876203</td>\n",
              "      <td>3866.478567</td>\n",
              "    </tr>\n",
              "    <tr>\n",
              "      <th>9</th>\n",
              "      <td>https://www.bbc.com/news/world-asia-59876095</td>\n",
              "      <td>1219.957718</td>\n",
              "    </tr>\n",
              "    <tr>\n",
              "      <th>10</th>\n",
              "      <td>https://www.bbc.com/news/world-latin-america-5...</td>\n",
              "      <td>1070.431904</td>\n",
              "    </tr>\n",
              "    <tr>\n",
              "      <th>11</th>\n",
              "      <td>https://www.bbc.com/news/world-us-canada-59876423</td>\n",
              "      <td>2980.590227</td>\n",
              "    </tr>\n",
              "    <tr>\n",
              "      <th>12</th>\n",
              "      <td>https://www.bbc.com/news/world-asia-india-5983...</td>\n",
              "      <td>1651.720567</td>\n",
              "    </tr>\n",
              "    <tr>\n",
              "      <th>13</th>\n",
              "      <td>https://www.bbc.com/news/world-europe-59871779</td>\n",
              "      <td>662.308598</td>\n",
              "    </tr>\n",
              "    <tr>\n",
              "      <th>14</th>\n",
              "      <td>https://www.bbc.com/news/world-australia-59876203</td>\n",
              "      <td>3866.478567</td>\n",
              "    </tr>\n",
              "    <tr>\n",
              "      <th>15</th>\n",
              "      <td>https://www.bbc.com/news/world-asia-59876095</td>\n",
              "      <td>1219.957718</td>\n",
              "    </tr>\n",
              "    <tr>\n",
              "      <th>16</th>\n",
              "      <td>https://www.bbc.com/news/world-latin-america-5...</td>\n",
              "      <td>1070.431904</td>\n",
              "    </tr>\n",
              "    <tr>\n",
              "      <th>17</th>\n",
              "      <td>https://www.bbc.com/news/world-us-canada-59876423</td>\n",
              "      <td>2980.590227</td>\n",
              "    </tr>\n",
              "    <tr>\n",
              "      <th>18</th>\n",
              "      <td>https://www.bbc.com/news/world-us-canada-59876583</td>\n",
              "      <td>1950.575557</td>\n",
              "    </tr>\n",
              "    <tr>\n",
              "      <th>19</th>\n",
              "      <td>https://www.bbc.com/news/world-latin-america-5...</td>\n",
              "      <td>3349.282900</td>\n",
              "    </tr>\n",
              "    <tr>\n",
              "      <th>20</th>\n",
              "      <td>https://www.bbc.com/news/uk-59865102</td>\n",
              "      <td>195.337204</td>\n",
              "    </tr>\n",
              "    <tr>\n",
              "      <th>21</th>\n",
              "      <td>https://www.bbc.com/news/world-us-canada-59833123</td>\n",
              "      <td>2408.279221</td>\n",
              "    </tr>\n",
              "    <tr>\n",
              "      <th>22</th>\n",
              "      <td>https://www.bbc.com/news/world-asia-59876093</td>\n",
              "      <td>2683.852181</td>\n",
              "    </tr>\n",
              "    <tr>\n",
              "      <th>23</th>\n",
              "      <td>https://www.bbc.com/news/technology-59867772</td>\n",
              "      <td>3230.381991</td>\n",
              "    </tr>\n",
              "    <tr>\n",
              "      <th>24</th>\n",
              "      <td>https://www.bbc.com/news/world-asia-india-5980...</td>\n",
              "      <td>2774.943171</td>\n",
              "    </tr>\n",
              "  </tbody>\n",
              "</table>\n",
              "</div>\n",
              "      <button class=\"colab-df-convert\" onclick=\"convertToInteractive('df-fc6223a1-1565-47ee-bacc-b12fc4b3b822')\"\n",
              "              title=\"Convert this dataframe to an interactive table.\"\n",
              "              style=\"display:none;\">\n",
              "        \n",
              "  <svg xmlns=\"http://www.w3.org/2000/svg\" height=\"24px\"viewBox=\"0 0 24 24\"\n",
              "       width=\"24px\">\n",
              "    <path d=\"M0 0h24v24H0V0z\" fill=\"none\"/>\n",
              "    <path d=\"M18.56 5.44l.94 2.06.94-2.06 2.06-.94-2.06-.94-.94-2.06-.94 2.06-2.06.94zm-11 1L8.5 8.5l.94-2.06 2.06-.94-2.06-.94L8.5 2.5l-.94 2.06-2.06.94zm10 10l.94 2.06.94-2.06 2.06-.94-2.06-.94-.94-2.06-.94 2.06-2.06.94z\"/><path d=\"M17.41 7.96l-1.37-1.37c-.4-.4-.92-.59-1.43-.59-.52 0-1.04.2-1.43.59L10.3 9.45l-7.72 7.72c-.78.78-.78 2.05 0 2.83L4 21.41c.39.39.9.59 1.41.59.51 0 1.02-.2 1.41-.59l7.78-7.78 2.81-2.81c.8-.78.8-2.07 0-2.86zM5.41 20L4 18.59l7.72-7.72 1.47 1.35L5.41 20z\"/>\n",
              "  </svg>\n",
              "      </button>\n",
              "      \n",
              "  <style>\n",
              "    .colab-df-container {\n",
              "      display:flex;\n",
              "      flex-wrap:wrap;\n",
              "      gap: 12px;\n",
              "    }\n",
              "\n",
              "    .colab-df-convert {\n",
              "      background-color: #E8F0FE;\n",
              "      border: none;\n",
              "      border-radius: 50%;\n",
              "      cursor: pointer;\n",
              "      display: none;\n",
              "      fill: #1967D2;\n",
              "      height: 32px;\n",
              "      padding: 0 0 0 0;\n",
              "      width: 32px;\n",
              "    }\n",
              "\n",
              "    .colab-df-convert:hover {\n",
              "      background-color: #E2EBFA;\n",
              "      box-shadow: 0px 1px 2px rgba(60, 64, 67, 0.3), 0px 1px 3px 1px rgba(60, 64, 67, 0.15);\n",
              "      fill: #174EA6;\n",
              "    }\n",
              "\n",
              "    [theme=dark] .colab-df-convert {\n",
              "      background-color: #3B4455;\n",
              "      fill: #D2E3FC;\n",
              "    }\n",
              "\n",
              "    [theme=dark] .colab-df-convert:hover {\n",
              "      background-color: #434B5C;\n",
              "      box-shadow: 0px 1px 3px 1px rgba(0, 0, 0, 0.15);\n",
              "      filter: drop-shadow(0px 1px 2px rgba(0, 0, 0, 0.3));\n",
              "      fill: #FFFFFF;\n",
              "    }\n",
              "  </style>\n",
              "\n",
              "      <script>\n",
              "        const buttonEl =\n",
              "          document.querySelector('#df-fc6223a1-1565-47ee-bacc-b12fc4b3b822 button.colab-df-convert');\n",
              "        buttonEl.style.display =\n",
              "          google.colab.kernel.accessAllowed ? 'block' : 'none';\n",
              "\n",
              "        async function convertToInteractive(key) {\n",
              "          const element = document.querySelector('#df-fc6223a1-1565-47ee-bacc-b12fc4b3b822');\n",
              "          const dataTable =\n",
              "            await google.colab.kernel.invokeFunction('convertToInteractive',\n",
              "                                                     [key], {});\n",
              "          if (!dataTable) return;\n",
              "\n",
              "          const docLinkHtml = 'Like what you see? Visit the ' +\n",
              "            '<a target=\"_blank\" href=https://colab.research.google.com/notebooks/data_table.ipynb>data table notebook</a>'\n",
              "            + ' to learn more about interactive tables.';\n",
              "          element.innerHTML = '';\n",
              "          dataTable['output_type'] = 'display_data';\n",
              "          await google.colab.output.renderOutput(dataTable, element);\n",
              "          const docLink = document.createElement('div');\n",
              "          docLink.innerHTML = docLinkHtml;\n",
              "          element.appendChild(docLink);\n",
              "        }\n",
              "      </script>\n",
              "    </div>\n",
              "  </div>\n",
              "  "
            ],
            "text/plain": [
              "                                                Links  Predicted Virality\n",
              "0   https://www.bbc.com/news/world-asia-india-5983...         1651.720567\n",
              "1      https://www.bbc.com/news/world-europe-59871779          662.308598\n",
              "2   https://www.bbc.com/news/world-australia-59876203         3866.478567\n",
              "3        https://www.bbc.com/news/world-asia-59876095         1219.957718\n",
              "4   https://www.bbc.com/news/world-latin-america-5...         1070.431904\n",
              "5   https://www.bbc.com/news/world-us-canada-59876423         2980.590227\n",
              "6   https://www.bbc.com/news/world-asia-india-5983...         1651.720567\n",
              "7      https://www.bbc.com/news/world-europe-59871779          662.308598\n",
              "8   https://www.bbc.com/news/world-australia-59876203         3866.478567\n",
              "9        https://www.bbc.com/news/world-asia-59876095         1219.957718\n",
              "10  https://www.bbc.com/news/world-latin-america-5...         1070.431904\n",
              "11  https://www.bbc.com/news/world-us-canada-59876423         2980.590227\n",
              "12  https://www.bbc.com/news/world-asia-india-5983...         1651.720567\n",
              "13     https://www.bbc.com/news/world-europe-59871779          662.308598\n",
              "14  https://www.bbc.com/news/world-australia-59876203         3866.478567\n",
              "15       https://www.bbc.com/news/world-asia-59876095         1219.957718\n",
              "16  https://www.bbc.com/news/world-latin-america-5...         1070.431904\n",
              "17  https://www.bbc.com/news/world-us-canada-59876423         2980.590227\n",
              "18  https://www.bbc.com/news/world-us-canada-59876583         1950.575557\n",
              "19  https://www.bbc.com/news/world-latin-america-5...         3349.282900\n",
              "20               https://www.bbc.com/news/uk-59865102          195.337204\n",
              "21  https://www.bbc.com/news/world-us-canada-59833123         2408.279221\n",
              "22       https://www.bbc.com/news/world-asia-59876093         2683.852181\n",
              "23       https://www.bbc.com/news/technology-59867772         3230.381991\n",
              "24  https://www.bbc.com/news/world-asia-india-5980...         2774.943171"
            ]
          },
          "metadata": {},
          "execution_count": 73
        }
      ]
    },
    {
      "cell_type": "code",
      "source": [
        "predrf = rf.predict(masterdf)\n",
        "rfdata = {'Links':list(newsarts[0:25]),'Predicted Virality':list(predrf)}\n",
        "pd.DataFrame(rfdata).reindex(np.arange(0,25,1))"
      ],
      "metadata": {
        "colab": {
          "base_uri": "https://localhost:8080/",
          "height": 833
        },
        "id": "eq04lRp5klB9",
        "outputId": "7944bb33-fa9b-4aa2-9fef-49ce6e208429"
      },
      "execution_count": 74,
      "outputs": [
        {
          "output_type": "execute_result",
          "data": {
            "text/html": [
              "\n",
              "  <div id=\"df-50ccaf9a-7990-41cf-88c0-eeab90ee607b\">\n",
              "    <div class=\"colab-df-container\">\n",
              "      <div>\n",
              "<style scoped>\n",
              "    .dataframe tbody tr th:only-of-type {\n",
              "        vertical-align: middle;\n",
              "    }\n",
              "\n",
              "    .dataframe tbody tr th {\n",
              "        vertical-align: top;\n",
              "    }\n",
              "\n",
              "    .dataframe thead th {\n",
              "        text-align: right;\n",
              "    }\n",
              "</style>\n",
              "<table border=\"1\" class=\"dataframe\">\n",
              "  <thead>\n",
              "    <tr style=\"text-align: right;\">\n",
              "      <th></th>\n",
              "      <th>Links</th>\n",
              "      <th>Predicted Virality</th>\n",
              "    </tr>\n",
              "  </thead>\n",
              "  <tbody>\n",
              "    <tr>\n",
              "      <th>0</th>\n",
              "      <td>https://www.bbc.com/news/world-asia-india-5983...</td>\n",
              "      <td>3892.239083</td>\n",
              "    </tr>\n",
              "    <tr>\n",
              "      <th>1</th>\n",
              "      <td>https://www.bbc.com/news/world-europe-59871779</td>\n",
              "      <td>3415.447174</td>\n",
              "    </tr>\n",
              "    <tr>\n",
              "      <th>2</th>\n",
              "      <td>https://www.bbc.com/news/world-australia-59876203</td>\n",
              "      <td>4571.596307</td>\n",
              "    </tr>\n",
              "    <tr>\n",
              "      <th>3</th>\n",
              "      <td>https://www.bbc.com/news/world-asia-59876095</td>\n",
              "      <td>5131.730502</td>\n",
              "    </tr>\n",
              "    <tr>\n",
              "      <th>4</th>\n",
              "      <td>https://www.bbc.com/news/world-latin-america-5...</td>\n",
              "      <td>3465.381411</td>\n",
              "    </tr>\n",
              "    <tr>\n",
              "      <th>5</th>\n",
              "      <td>https://www.bbc.com/news/world-us-canada-59876423</td>\n",
              "      <td>3436.681430</td>\n",
              "    </tr>\n",
              "    <tr>\n",
              "      <th>6</th>\n",
              "      <td>https://www.bbc.com/news/world-asia-india-5983...</td>\n",
              "      <td>3892.239083</td>\n",
              "    </tr>\n",
              "    <tr>\n",
              "      <th>7</th>\n",
              "      <td>https://www.bbc.com/news/world-europe-59871779</td>\n",
              "      <td>3415.447174</td>\n",
              "    </tr>\n",
              "    <tr>\n",
              "      <th>8</th>\n",
              "      <td>https://www.bbc.com/news/world-australia-59876203</td>\n",
              "      <td>4571.596307</td>\n",
              "    </tr>\n",
              "    <tr>\n",
              "      <th>9</th>\n",
              "      <td>https://www.bbc.com/news/world-asia-59876095</td>\n",
              "      <td>5131.730502</td>\n",
              "    </tr>\n",
              "    <tr>\n",
              "      <th>10</th>\n",
              "      <td>https://www.bbc.com/news/world-latin-america-5...</td>\n",
              "      <td>3465.381411</td>\n",
              "    </tr>\n",
              "    <tr>\n",
              "      <th>11</th>\n",
              "      <td>https://www.bbc.com/news/world-us-canada-59876423</td>\n",
              "      <td>3436.681430</td>\n",
              "    </tr>\n",
              "    <tr>\n",
              "      <th>12</th>\n",
              "      <td>https://www.bbc.com/news/world-asia-india-5983...</td>\n",
              "      <td>3892.239083</td>\n",
              "    </tr>\n",
              "    <tr>\n",
              "      <th>13</th>\n",
              "      <td>https://www.bbc.com/news/world-europe-59871779</td>\n",
              "      <td>3415.447174</td>\n",
              "    </tr>\n",
              "    <tr>\n",
              "      <th>14</th>\n",
              "      <td>https://www.bbc.com/news/world-australia-59876203</td>\n",
              "      <td>4571.596307</td>\n",
              "    </tr>\n",
              "    <tr>\n",
              "      <th>15</th>\n",
              "      <td>https://www.bbc.com/news/world-asia-59876095</td>\n",
              "      <td>5131.730502</td>\n",
              "    </tr>\n",
              "    <tr>\n",
              "      <th>16</th>\n",
              "      <td>https://www.bbc.com/news/world-latin-america-5...</td>\n",
              "      <td>3465.381411</td>\n",
              "    </tr>\n",
              "    <tr>\n",
              "      <th>17</th>\n",
              "      <td>https://www.bbc.com/news/world-us-canada-59876423</td>\n",
              "      <td>3436.681430</td>\n",
              "    </tr>\n",
              "    <tr>\n",
              "      <th>18</th>\n",
              "      <td>https://www.bbc.com/news/world-us-canada-59876583</td>\n",
              "      <td>3803.392743</td>\n",
              "    </tr>\n",
              "    <tr>\n",
              "      <th>19</th>\n",
              "      <td>https://www.bbc.com/news/world-latin-america-5...</td>\n",
              "      <td>3482.887958</td>\n",
              "    </tr>\n",
              "    <tr>\n",
              "      <th>20</th>\n",
              "      <td>https://www.bbc.com/news/uk-59865102</td>\n",
              "      <td>3702.437954</td>\n",
              "    </tr>\n",
              "    <tr>\n",
              "      <th>21</th>\n",
              "      <td>https://www.bbc.com/news/world-us-canada-59833123</td>\n",
              "      <td>4313.571399</td>\n",
              "    </tr>\n",
              "    <tr>\n",
              "      <th>22</th>\n",
              "      <td>https://www.bbc.com/news/world-asia-59876093</td>\n",
              "      <td>3476.206284</td>\n",
              "    </tr>\n",
              "    <tr>\n",
              "      <th>23</th>\n",
              "      <td>https://www.bbc.com/news/technology-59867772</td>\n",
              "      <td>3580.221998</td>\n",
              "    </tr>\n",
              "    <tr>\n",
              "      <th>24</th>\n",
              "      <td>https://www.bbc.com/news/world-asia-india-5980...</td>\n",
              "      <td>3374.244193</td>\n",
              "    </tr>\n",
              "  </tbody>\n",
              "</table>\n",
              "</div>\n",
              "      <button class=\"colab-df-convert\" onclick=\"convertToInteractive('df-50ccaf9a-7990-41cf-88c0-eeab90ee607b')\"\n",
              "              title=\"Convert this dataframe to an interactive table.\"\n",
              "              style=\"display:none;\">\n",
              "        \n",
              "  <svg xmlns=\"http://www.w3.org/2000/svg\" height=\"24px\"viewBox=\"0 0 24 24\"\n",
              "       width=\"24px\">\n",
              "    <path d=\"M0 0h24v24H0V0z\" fill=\"none\"/>\n",
              "    <path d=\"M18.56 5.44l.94 2.06.94-2.06 2.06-.94-2.06-.94-.94-2.06-.94 2.06-2.06.94zm-11 1L8.5 8.5l.94-2.06 2.06-.94-2.06-.94L8.5 2.5l-.94 2.06-2.06.94zm10 10l.94 2.06.94-2.06 2.06-.94-2.06-.94-.94-2.06-.94 2.06-2.06.94z\"/><path d=\"M17.41 7.96l-1.37-1.37c-.4-.4-.92-.59-1.43-.59-.52 0-1.04.2-1.43.59L10.3 9.45l-7.72 7.72c-.78.78-.78 2.05 0 2.83L4 21.41c.39.39.9.59 1.41.59.51 0 1.02-.2 1.41-.59l7.78-7.78 2.81-2.81c.8-.78.8-2.07 0-2.86zM5.41 20L4 18.59l7.72-7.72 1.47 1.35L5.41 20z\"/>\n",
              "  </svg>\n",
              "      </button>\n",
              "      \n",
              "  <style>\n",
              "    .colab-df-container {\n",
              "      display:flex;\n",
              "      flex-wrap:wrap;\n",
              "      gap: 12px;\n",
              "    }\n",
              "\n",
              "    .colab-df-convert {\n",
              "      background-color: #E8F0FE;\n",
              "      border: none;\n",
              "      border-radius: 50%;\n",
              "      cursor: pointer;\n",
              "      display: none;\n",
              "      fill: #1967D2;\n",
              "      height: 32px;\n",
              "      padding: 0 0 0 0;\n",
              "      width: 32px;\n",
              "    }\n",
              "\n",
              "    .colab-df-convert:hover {\n",
              "      background-color: #E2EBFA;\n",
              "      box-shadow: 0px 1px 2px rgba(60, 64, 67, 0.3), 0px 1px 3px 1px rgba(60, 64, 67, 0.15);\n",
              "      fill: #174EA6;\n",
              "    }\n",
              "\n",
              "    [theme=dark] .colab-df-convert {\n",
              "      background-color: #3B4455;\n",
              "      fill: #D2E3FC;\n",
              "    }\n",
              "\n",
              "    [theme=dark] .colab-df-convert:hover {\n",
              "      background-color: #434B5C;\n",
              "      box-shadow: 0px 1px 3px 1px rgba(0, 0, 0, 0.15);\n",
              "      filter: drop-shadow(0px 1px 2px rgba(0, 0, 0, 0.3));\n",
              "      fill: #FFFFFF;\n",
              "    }\n",
              "  </style>\n",
              "\n",
              "      <script>\n",
              "        const buttonEl =\n",
              "          document.querySelector('#df-50ccaf9a-7990-41cf-88c0-eeab90ee607b button.colab-df-convert');\n",
              "        buttonEl.style.display =\n",
              "          google.colab.kernel.accessAllowed ? 'block' : 'none';\n",
              "\n",
              "        async function convertToInteractive(key) {\n",
              "          const element = document.querySelector('#df-50ccaf9a-7990-41cf-88c0-eeab90ee607b');\n",
              "          const dataTable =\n",
              "            await google.colab.kernel.invokeFunction('convertToInteractive',\n",
              "                                                     [key], {});\n",
              "          if (!dataTable) return;\n",
              "\n",
              "          const docLinkHtml = 'Like what you see? Visit the ' +\n",
              "            '<a target=\"_blank\" href=https://colab.research.google.com/notebooks/data_table.ipynb>data table notebook</a>'\n",
              "            + ' to learn more about interactive tables.';\n",
              "          element.innerHTML = '';\n",
              "          dataTable['output_type'] = 'display_data';\n",
              "          await google.colab.output.renderOutput(dataTable, element);\n",
              "          const docLink = document.createElement('div');\n",
              "          docLink.innerHTML = docLinkHtml;\n",
              "          element.appendChild(docLink);\n",
              "        }\n",
              "      </script>\n",
              "    </div>\n",
              "  </div>\n",
              "  "
            ],
            "text/plain": [
              "                                                Links  Predicted Virality\n",
              "0   https://www.bbc.com/news/world-asia-india-5983...         3892.239083\n",
              "1      https://www.bbc.com/news/world-europe-59871779         3415.447174\n",
              "2   https://www.bbc.com/news/world-australia-59876203         4571.596307\n",
              "3        https://www.bbc.com/news/world-asia-59876095         5131.730502\n",
              "4   https://www.bbc.com/news/world-latin-america-5...         3465.381411\n",
              "5   https://www.bbc.com/news/world-us-canada-59876423         3436.681430\n",
              "6   https://www.bbc.com/news/world-asia-india-5983...         3892.239083\n",
              "7      https://www.bbc.com/news/world-europe-59871779         3415.447174\n",
              "8   https://www.bbc.com/news/world-australia-59876203         4571.596307\n",
              "9        https://www.bbc.com/news/world-asia-59876095         5131.730502\n",
              "10  https://www.bbc.com/news/world-latin-america-5...         3465.381411\n",
              "11  https://www.bbc.com/news/world-us-canada-59876423         3436.681430\n",
              "12  https://www.bbc.com/news/world-asia-india-5983...         3892.239083\n",
              "13     https://www.bbc.com/news/world-europe-59871779         3415.447174\n",
              "14  https://www.bbc.com/news/world-australia-59876203         4571.596307\n",
              "15       https://www.bbc.com/news/world-asia-59876095         5131.730502\n",
              "16  https://www.bbc.com/news/world-latin-america-5...         3465.381411\n",
              "17  https://www.bbc.com/news/world-us-canada-59876423         3436.681430\n",
              "18  https://www.bbc.com/news/world-us-canada-59876583         3803.392743\n",
              "19  https://www.bbc.com/news/world-latin-america-5...         3482.887958\n",
              "20               https://www.bbc.com/news/uk-59865102         3702.437954\n",
              "21  https://www.bbc.com/news/world-us-canada-59833123         4313.571399\n",
              "22       https://www.bbc.com/news/world-asia-59876093         3476.206284\n",
              "23       https://www.bbc.com/news/technology-59867772         3580.221998\n",
              "24  https://www.bbc.com/news/world-asia-india-5980...         3374.244193"
            ]
          },
          "metadata": {},
          "execution_count": 74
        }
      ]
    },
    {
      "cell_type": "code",
      "source": [
        "predxgb = xgb2.predict(masterdf)\n",
        "xgbdata = {'Links':list(newsarts[0:25]),'Predicted Virality':list(predxgb)}\n",
        "pd.DataFrame(xgbdata).reindex(np.arange(0,25,1))"
      ],
      "metadata": {
        "id": "o9shwbDLLXKW",
        "colab": {
          "base_uri": "https://localhost:8080/",
          "height": 833
        },
        "outputId": "64bbc3f0-e177-467c-c315-e5ff5e4fa77f"
      },
      "execution_count": 75,
      "outputs": [
        {
          "output_type": "execute_result",
          "data": {
            "text/html": [
              "\n",
              "  <div id=\"df-65075bbe-1c80-45cf-a429-d35c33c11566\">\n",
              "    <div class=\"colab-df-container\">\n",
              "      <div>\n",
              "<style scoped>\n",
              "    .dataframe tbody tr th:only-of-type {\n",
              "        vertical-align: middle;\n",
              "    }\n",
              "\n",
              "    .dataframe tbody tr th {\n",
              "        vertical-align: top;\n",
              "    }\n",
              "\n",
              "    .dataframe thead th {\n",
              "        text-align: right;\n",
              "    }\n",
              "</style>\n",
              "<table border=\"1\" class=\"dataframe\">\n",
              "  <thead>\n",
              "    <tr style=\"text-align: right;\">\n",
              "      <th></th>\n",
              "      <th>Links</th>\n",
              "      <th>Predicted Virality</th>\n",
              "    </tr>\n",
              "  </thead>\n",
              "  <tbody>\n",
              "    <tr>\n",
              "      <th>0</th>\n",
              "      <td>https://www.bbc.com/news/world-asia-india-5983...</td>\n",
              "      <td>3161.249023</td>\n",
              "    </tr>\n",
              "    <tr>\n",
              "      <th>1</th>\n",
              "      <td>https://www.bbc.com/news/world-europe-59871779</td>\n",
              "      <td>3311.295898</td>\n",
              "    </tr>\n",
              "    <tr>\n",
              "      <th>2</th>\n",
              "      <td>https://www.bbc.com/news/world-australia-59876203</td>\n",
              "      <td>3053.013184</td>\n",
              "    </tr>\n",
              "    <tr>\n",
              "      <th>3</th>\n",
              "      <td>https://www.bbc.com/news/world-asia-59876095</td>\n",
              "      <td>2873.659424</td>\n",
              "    </tr>\n",
              "    <tr>\n",
              "      <th>4</th>\n",
              "      <td>https://www.bbc.com/news/world-latin-america-5...</td>\n",
              "      <td>3035.470703</td>\n",
              "    </tr>\n",
              "    <tr>\n",
              "      <th>5</th>\n",
              "      <td>https://www.bbc.com/news/world-us-canada-59876423</td>\n",
              "      <td>3037.714844</td>\n",
              "    </tr>\n",
              "    <tr>\n",
              "      <th>6</th>\n",
              "      <td>https://www.bbc.com/news/world-asia-india-5983...</td>\n",
              "      <td>3161.249023</td>\n",
              "    </tr>\n",
              "    <tr>\n",
              "      <th>7</th>\n",
              "      <td>https://www.bbc.com/news/world-europe-59871779</td>\n",
              "      <td>3311.295898</td>\n",
              "    </tr>\n",
              "    <tr>\n",
              "      <th>8</th>\n",
              "      <td>https://www.bbc.com/news/world-australia-59876203</td>\n",
              "      <td>3053.013184</td>\n",
              "    </tr>\n",
              "    <tr>\n",
              "      <th>9</th>\n",
              "      <td>https://www.bbc.com/news/world-asia-59876095</td>\n",
              "      <td>2873.659424</td>\n",
              "    </tr>\n",
              "    <tr>\n",
              "      <th>10</th>\n",
              "      <td>https://www.bbc.com/news/world-latin-america-5...</td>\n",
              "      <td>3035.470703</td>\n",
              "    </tr>\n",
              "    <tr>\n",
              "      <th>11</th>\n",
              "      <td>https://www.bbc.com/news/world-us-canada-59876423</td>\n",
              "      <td>3037.714844</td>\n",
              "    </tr>\n",
              "    <tr>\n",
              "      <th>12</th>\n",
              "      <td>https://www.bbc.com/news/world-asia-india-5983...</td>\n",
              "      <td>3161.249023</td>\n",
              "    </tr>\n",
              "    <tr>\n",
              "      <th>13</th>\n",
              "      <td>https://www.bbc.com/news/world-europe-59871779</td>\n",
              "      <td>3311.295898</td>\n",
              "    </tr>\n",
              "    <tr>\n",
              "      <th>14</th>\n",
              "      <td>https://www.bbc.com/news/world-australia-59876203</td>\n",
              "      <td>3053.013184</td>\n",
              "    </tr>\n",
              "    <tr>\n",
              "      <th>15</th>\n",
              "      <td>https://www.bbc.com/news/world-asia-59876095</td>\n",
              "      <td>2873.659424</td>\n",
              "    </tr>\n",
              "    <tr>\n",
              "      <th>16</th>\n",
              "      <td>https://www.bbc.com/news/world-latin-america-5...</td>\n",
              "      <td>3035.470703</td>\n",
              "    </tr>\n",
              "    <tr>\n",
              "      <th>17</th>\n",
              "      <td>https://www.bbc.com/news/world-us-canada-59876423</td>\n",
              "      <td>3037.714844</td>\n",
              "    </tr>\n",
              "    <tr>\n",
              "      <th>18</th>\n",
              "      <td>https://www.bbc.com/news/world-us-canada-59876583</td>\n",
              "      <td>2996.015869</td>\n",
              "    </tr>\n",
              "    <tr>\n",
              "      <th>19</th>\n",
              "      <td>https://www.bbc.com/news/world-latin-america-5...</td>\n",
              "      <td>22848.503906</td>\n",
              "    </tr>\n",
              "    <tr>\n",
              "      <th>20</th>\n",
              "      <td>https://www.bbc.com/news/uk-59865102</td>\n",
              "      <td>3008.818848</td>\n",
              "    </tr>\n",
              "    <tr>\n",
              "      <th>21</th>\n",
              "      <td>https://www.bbc.com/news/world-us-canada-59833123</td>\n",
              "      <td>3164.081299</td>\n",
              "    </tr>\n",
              "    <tr>\n",
              "      <th>22</th>\n",
              "      <td>https://www.bbc.com/news/world-asia-59876093</td>\n",
              "      <td>22862.236328</td>\n",
              "    </tr>\n",
              "    <tr>\n",
              "      <th>23</th>\n",
              "      <td>https://www.bbc.com/news/technology-59867772</td>\n",
              "      <td>2850.119385</td>\n",
              "    </tr>\n",
              "    <tr>\n",
              "      <th>24</th>\n",
              "      <td>https://www.bbc.com/news/world-asia-india-5980...</td>\n",
              "      <td>3583.762695</td>\n",
              "    </tr>\n",
              "  </tbody>\n",
              "</table>\n",
              "</div>\n",
              "      <button class=\"colab-df-convert\" onclick=\"convertToInteractive('df-65075bbe-1c80-45cf-a429-d35c33c11566')\"\n",
              "              title=\"Convert this dataframe to an interactive table.\"\n",
              "              style=\"display:none;\">\n",
              "        \n",
              "  <svg xmlns=\"http://www.w3.org/2000/svg\" height=\"24px\"viewBox=\"0 0 24 24\"\n",
              "       width=\"24px\">\n",
              "    <path d=\"M0 0h24v24H0V0z\" fill=\"none\"/>\n",
              "    <path d=\"M18.56 5.44l.94 2.06.94-2.06 2.06-.94-2.06-.94-.94-2.06-.94 2.06-2.06.94zm-11 1L8.5 8.5l.94-2.06 2.06-.94-2.06-.94L8.5 2.5l-.94 2.06-2.06.94zm10 10l.94 2.06.94-2.06 2.06-.94-2.06-.94-.94-2.06-.94 2.06-2.06.94z\"/><path d=\"M17.41 7.96l-1.37-1.37c-.4-.4-.92-.59-1.43-.59-.52 0-1.04.2-1.43.59L10.3 9.45l-7.72 7.72c-.78.78-.78 2.05 0 2.83L4 21.41c.39.39.9.59 1.41.59.51 0 1.02-.2 1.41-.59l7.78-7.78 2.81-2.81c.8-.78.8-2.07 0-2.86zM5.41 20L4 18.59l7.72-7.72 1.47 1.35L5.41 20z\"/>\n",
              "  </svg>\n",
              "      </button>\n",
              "      \n",
              "  <style>\n",
              "    .colab-df-container {\n",
              "      display:flex;\n",
              "      flex-wrap:wrap;\n",
              "      gap: 12px;\n",
              "    }\n",
              "\n",
              "    .colab-df-convert {\n",
              "      background-color: #E8F0FE;\n",
              "      border: none;\n",
              "      border-radius: 50%;\n",
              "      cursor: pointer;\n",
              "      display: none;\n",
              "      fill: #1967D2;\n",
              "      height: 32px;\n",
              "      padding: 0 0 0 0;\n",
              "      width: 32px;\n",
              "    }\n",
              "\n",
              "    .colab-df-convert:hover {\n",
              "      background-color: #E2EBFA;\n",
              "      box-shadow: 0px 1px 2px rgba(60, 64, 67, 0.3), 0px 1px 3px 1px rgba(60, 64, 67, 0.15);\n",
              "      fill: #174EA6;\n",
              "    }\n",
              "\n",
              "    [theme=dark] .colab-df-convert {\n",
              "      background-color: #3B4455;\n",
              "      fill: #D2E3FC;\n",
              "    }\n",
              "\n",
              "    [theme=dark] .colab-df-convert:hover {\n",
              "      background-color: #434B5C;\n",
              "      box-shadow: 0px 1px 3px 1px rgba(0, 0, 0, 0.15);\n",
              "      filter: drop-shadow(0px 1px 2px rgba(0, 0, 0, 0.3));\n",
              "      fill: #FFFFFF;\n",
              "    }\n",
              "  </style>\n",
              "\n",
              "      <script>\n",
              "        const buttonEl =\n",
              "          document.querySelector('#df-65075bbe-1c80-45cf-a429-d35c33c11566 button.colab-df-convert');\n",
              "        buttonEl.style.display =\n",
              "          google.colab.kernel.accessAllowed ? 'block' : 'none';\n",
              "\n",
              "        async function convertToInteractive(key) {\n",
              "          const element = document.querySelector('#df-65075bbe-1c80-45cf-a429-d35c33c11566');\n",
              "          const dataTable =\n",
              "            await google.colab.kernel.invokeFunction('convertToInteractive',\n",
              "                                                     [key], {});\n",
              "          if (!dataTable) return;\n",
              "\n",
              "          const docLinkHtml = 'Like what you see? Visit the ' +\n",
              "            '<a target=\"_blank\" href=https://colab.research.google.com/notebooks/data_table.ipynb>data table notebook</a>'\n",
              "            + ' to learn more about interactive tables.';\n",
              "          element.innerHTML = '';\n",
              "          dataTable['output_type'] = 'display_data';\n",
              "          await google.colab.output.renderOutput(dataTable, element);\n",
              "          const docLink = document.createElement('div');\n",
              "          docLink.innerHTML = docLinkHtml;\n",
              "          element.appendChild(docLink);\n",
              "        }\n",
              "      </script>\n",
              "    </div>\n",
              "  </div>\n",
              "  "
            ],
            "text/plain": [
              "                                                Links  Predicted Virality\n",
              "0   https://www.bbc.com/news/world-asia-india-5983...         3161.249023\n",
              "1      https://www.bbc.com/news/world-europe-59871779         3311.295898\n",
              "2   https://www.bbc.com/news/world-australia-59876203         3053.013184\n",
              "3        https://www.bbc.com/news/world-asia-59876095         2873.659424\n",
              "4   https://www.bbc.com/news/world-latin-america-5...         3035.470703\n",
              "5   https://www.bbc.com/news/world-us-canada-59876423         3037.714844\n",
              "6   https://www.bbc.com/news/world-asia-india-5983...         3161.249023\n",
              "7      https://www.bbc.com/news/world-europe-59871779         3311.295898\n",
              "8   https://www.bbc.com/news/world-australia-59876203         3053.013184\n",
              "9        https://www.bbc.com/news/world-asia-59876095         2873.659424\n",
              "10  https://www.bbc.com/news/world-latin-america-5...         3035.470703\n",
              "11  https://www.bbc.com/news/world-us-canada-59876423         3037.714844\n",
              "12  https://www.bbc.com/news/world-asia-india-5983...         3161.249023\n",
              "13     https://www.bbc.com/news/world-europe-59871779         3311.295898\n",
              "14  https://www.bbc.com/news/world-australia-59876203         3053.013184\n",
              "15       https://www.bbc.com/news/world-asia-59876095         2873.659424\n",
              "16  https://www.bbc.com/news/world-latin-america-5...         3035.470703\n",
              "17  https://www.bbc.com/news/world-us-canada-59876423         3037.714844\n",
              "18  https://www.bbc.com/news/world-us-canada-59876583         2996.015869\n",
              "19  https://www.bbc.com/news/world-latin-america-5...        22848.503906\n",
              "20               https://www.bbc.com/news/uk-59865102         3008.818848\n",
              "21  https://www.bbc.com/news/world-us-canada-59833123         3164.081299\n",
              "22       https://www.bbc.com/news/world-asia-59876093        22862.236328\n",
              "23       https://www.bbc.com/news/technology-59867772         2850.119385\n",
              "24  https://www.bbc.com/news/world-asia-india-5980...         3583.762695"
            ]
          },
          "metadata": {},
          "execution_count": 75
        }
      ]
    }
  ]
}